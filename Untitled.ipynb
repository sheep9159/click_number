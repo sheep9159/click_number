{
 "cells": [
  {
   "cell_type": "code",
   "execution_count": 98,
   "metadata": {},
   "outputs": [],
   "source": [
    "# from scipy.signal import hilbert\n",
    "# import numpy as np\n",
    "# import matplotlib.pyplot as plt\n",
    "\n",
    "\n",
    "# def compare_elements(array1, array2):  # array1和array2大小相同\n",
    "\n",
    "#     array = np.zeros(len(array1))\n",
    "#     for i in range(len(array1)):\n",
    "#         if array1[i] == array2[i]:\n",
    "#             array[i] = 0\n",
    "#         elif array1[i] > array2[i]:\n",
    "#             array[i] = 1\n",
    "#         else:\n",
    "#             array[i] = -1\n",
    "\n",
    "#     return array\n",
    "\n",
    "\n",
    "# def phase_locked_matrix(all_channel_eeg):\n",
    "\n",
    "#     \"\"\"all_channel_eeg的shape例如是32 * 8064，其中32是脑电极，而8064是每个通道下采集的数据\"\"\"\n",
    "\n",
    "#     channels = all_channel_eeg.shape[0]\n",
    "#     sampling_number = all_channel_eeg.shape[1]  # 得到输入的通道数和每个通道的采样点数\n",
    "#     eeg_instantaneous_phase = np.zeros_like(all_channel_eeg)  # 初始化每个通道下每个采样点的瞬时相位\n",
    "\n",
    "\n",
    "#     for index, single_channel_eeg in enumerate(all_channel_eeg):\n",
    "#         analytic_signal = hilbert(single_channel_eeg)\n",
    "#         instantaneous_phase = np.unwrap(np.angle(analytic_signal))\n",
    "#         eeg_instantaneous_phase[index] = instantaneous_phase\n",
    "\n",
    "#     matrix = np.zeros(shape=[channels, channels])  # 初始化相位锁定矩阵，shape是32 * 32\n",
    "\n",
    "\n",
    "#     for i in range(channels):\n",
    "#         for j in range(channels):\n",
    "#             if i == j:\n",
    "#                 matrix[i][j] = 1\n",
    "#             else:\n",
    "#                 matrix[i][j] = np.abs((compare_elements(eeg_instantaneous_phase[i], eeg_instantaneous_phase[j])).sum()) / sampling_number\n",
    "\n",
    "#     return matrix"
   ]
  },
  {
   "cell_type": "code",
   "execution_count": 99,
   "metadata": {},
   "outputs": [],
   "source": [
    "import functionConnective\n",
    "import torch\n",
    "import torch.utils.data\n",
    "import torch.nn as nn\n",
    "import torchvision.datasets\n",
    "import numpy as np\n",
    "import pandas as pd\n",
    "import os\n",
    "\n",
    "\n",
    "BATCH_SIZE = 16\n",
    "\n",
    "\n",
    "# 制作数据样本库\n",
    "class mydatasets(torch.utils.data.Dataset):\n",
    "    def __init__(self, file_dir, file_type):\n",
    "        super().__init__()\n",
    "        self.file_name = []\n",
    "        self.targets = []\n",
    "        for root, dirs, files in os.walk(file_dir, topdown=False):\n",
    "            for file in files:\n",
    "                if root[-4:] == 'fast':\n",
    "                    self.targets.append(1)\n",
    "                elif root[-4:] == 'medi':\n",
    "                    self.targets.append(2)\n",
    "                else:\n",
    "                    self.targets.append(3)\n",
    "                if file_type in file:\n",
    "                    self.file_name.append(os.path.join(root, file))\n",
    "        self.targets = torch.from_numpy(np.array(self.targets)).long()\n",
    "\n",
    "    def __getitem__(self, item):\n",
    "        data = pd.read_csv(self.file_name[item])\n",
    "        data = data.values[:30, 1:]\n",
    "        data = torch.from_numpy(functionConnective.phase_locked_matrix(data)).float().unsqueeze(dim=0)\n",
    "        target = self.targets[item]\n",
    "\n",
    "        return data, target\n",
    "\n",
    "    def __len__(self):\n",
    "        return len(self.file_name)"
   ]
  },
  {
   "cell_type": "code",
   "execution_count": 125,
   "metadata": {},
   "outputs": [
    {
     "name": "stdout",
     "output_type": "stream",
     "text": [
      "a tensor([[ 0.1332, -0.4853, -0.1460],\n",
      "        [ 0.1123,  1.0549,  0.0379],\n",
      "        [-0.6406,  0.7165,  0.0461],\n",
      "        [ 1.2180, -1.1475,  0.9607],\n",
      "        [-1.2475,  0.3824,  1.3695]], dtype=torch.float64) b tensor([[0, 2, 1, 0, 2]], dtype=torch.int32)\n",
      "tensor([0, 1, 1, 0, 2])\n",
      "4.0\n"
     ]
    }
   ],
   "source": [
    "a = torch.from_numpy(np.random.randn(5,3))\n",
    "b = torch.from_numpy(np.random.randint(0, 3, size=[1,5]))\n",
    "print('a', a, 'b', b)\n",
    "print(torch.argmax(a, dim=1))\n",
    "print((torch.argmax(a, dim=1) == b).float().numpy().sum())"
   ]
  },
  {
   "cell_type": "code",
   "execution_count": 131,
   "metadata": {},
   "outputs": [],
   "source": [
    "from scipy.signal import hilbert\n",
    "import numpy as np\n",
    "import matplotlib.pyplot as plt\n",
    "\n",
    "\n",
    "def compare_elements(array1, array2):  # array1和array2大小相同\n",
    "\n",
    "    array = np.zeros(len(array1))\n",
    "    for i in range(len(array1)):\n",
    "        if array1[i] == array2[i]:\n",
    "            array[i] = 0\n",
    "        elif array1[i] > array2[i]:\n",
    "            array[i] = 1\n",
    "        else:\n",
    "            array[i] = -1\n",
    "\n",
    "    return array\n",
    "\n",
    "\n",
    "def phase_locked_matrix(all_channel_eeg):\n",
    "\n",
    "    \"\"\"all_channel_eeg的shape例如是4 * 32 * 8064，其中4是四种频段，32是32个脑电极数脑电极，而8064是每个通道下采集的数据\"\"\"\n",
    "\n",
    "    # 得到输入的频段数，电极通道数和每个通道的采样点数\n",
    "    bands, channels, points = all_channel_eeg.shape()  \n",
    "    eeg_instantaneous_phase = np.zeros_like(all_channel_eeg)  # 初始化每个通道下每个采样点的瞬时相位\n",
    "\n",
    "    for band, signal_band_eeg in enumerate(all_channel_eeg):\n",
    "        for channel, single_channel_eeg in enumerate(signal_band_eeg):\n",
    "            analytic_signal = hilbert(single_channel_eeg)\n",
    "            instantaneous_phase = np.unwrap(np.angle(analytic_signal))\n",
    "            eeg_instantaneous_phase[band, channel] = instantaneous_phase\n",
    "    \n",
    "    matrix = np.zeros(shape=[bands, channels, channels])  # 初始化相位锁定矩阵，shape是4 * 32 * 32\n",
    "\n",
    "\n",
    "    for index in range(bands):\n",
    "        for i in range(channels):\n",
    "            for j in range(channels):\n",
    "                if i == j:\n",
    "                    matrix[index][i][j] = 1\n",
    "                else:\n",
    "                    matrix[index][i][j] = np.abs((compare_elements(eeg_instantaneous_phase[index][i], eeg_instantaneous_phase[index][j])).sum()) / points\n",
    "    \n",
    "        return matrix"
   ]
  },
  {
   "cell_type": "code",
   "execution_count": 183,
   "metadata": {},
   "outputs": [],
   "source": [
    "import numpy as np\n",
    "import scipy.signal as signal\n",
    "\n",
    "\n",
    "def get_eeg_signal_four_frequency_band(eeg_signal_data, Fs=2000):\n",
    "\n",
    "    channels, points = eeg_signal_data.shape\n",
    "\n",
    "    theta = [4, 8]\n",
    "    alpha = [8, 12]\n",
    "    beta = [12, 30]\n",
    "    gamma = 30\n",
    "    \n",
    "    eeg_data_theta = np.zeros_like(eeg_signal_data)\n",
    "    eeg_data_alpha = np.zeros_like(eeg_signal_data)\n",
    "    eeg_data_beta = np.zeros_like(eeg_signal_data)\n",
    "    eeg_data_gamma = np.zeros_like(eeg_signal_data)\n",
    "\n",
    "    filter_theta = signal.firwin(points, theta, pass_zero='bandpass', fs=Fs)\n",
    "    filter_alpha = signal.firwin(points, alpha, pass_zero='bandpass', fs=Fs)\n",
    "    filter_beta = signal.firwin(points, beta, pass_zero='bandpass', fs=Fs)\n",
    "\n",
    "    '''\n",
    "        firwin函数设计的都是偶对称的fir滤波器，当N为偶数时，其截止频率处即fs/2都是zero response的，所以用N+1\n",
    "    '''\n",
    "    if points % 2 == 0:\n",
    "        filter_gamma = signal.firwin(points+1, gamma, pass_zero='highpass', fs=128)\n",
    "    else:\n",
    "        filter_gamma = signal.firwin(points, gamma, pass_zero='highpass', fs=128)\n",
    "\n",
    "    for channel in range(channels):\n",
    "        eeg_data_theta[channel] = signal.convolve(eeg_signal_data[channel], filter_theta,mode='same')\n",
    "        eeg_data_alpha[channel] = signal.convolve(eeg_signal_data[channel], filter_alpha,mode='same')\n",
    "        eeg_data_beta[channel] = signal.convolve(eeg_signal_data[channel], filter_beta,mode='same')\n",
    "        eeg_data_gamma[channel] = signal.convolve(eeg_signal_data[channel], filter_gamma, mode='same')  # 得到fir数字滤波器后直接与信号做卷积\n",
    "\n",
    "    return np.array([eeg_data_theta, eeg_data_alpha, eeg_data_beta, eeg_data_gamma])  # 将四个频段组合在一起"
   ]
  },
  {
   "cell_type": "code",
   "execution_count": 185,
   "metadata": {},
   "outputs": [
    {
     "name": "stdout",
     "output_type": "stream",
     "text": [
      "(30, 141)\n"
     ]
    },
    {
     "data": {
      "text/plain": [
       "(4, 30, 141)"
      ]
     },
     "execution_count": 185,
     "metadata": {},
     "output_type": "execute_result"
    }
   ],
   "source": [
    "import pandas as pd\n",
    "\n",
    "data = pd.read_csv(r'D:\\Files\\SJTU\\Study\\MME_Lab\\Teacher_Lu\\click_number\\eeg\\process1.0\\fast\\9.csv')\n",
    "data = data.values[:30, 1:]\n",
    "print(data.shape)\n",
    "data = get_eeg_signal_four_frequency_band(data)\n",
    "data.shape"
   ]
  },
  {
   "cell_type": "code",
   "execution_count": 198,
   "metadata": {},
   "outputs": [
    {
     "data": {
      "image/png": "[encoded data removed]",
      "text/plain": [
       "<Figure size 432x288 with 1 Axes>"
      ]
     },
     "metadata": {
      "needs_background": "light"
     },
     "output_type": "display_data"
    }
   ],
   "source": [
    "import matplotlib.pyplot as plt\n",
    "# % matplotlib inline\n",
    "from IPython import display\n",
    "fig = plt.figure()\n",
    "for i in range(5):\n",
    "    plt.plot(i, 10,'c*-')\n",
    "    plt.pause(0.05)\n",
    "    display.clear_output(wait=True)\n",
    "    "
   ]
  }
 ],
 "metadata": {
  "kernelspec": {
   "display_name": "Python 3",
   "language": "python",
   "name": "python3"
  },
  "language_info": {
   "codemirror_mode": {
    "name": "ipython",
    "version": 3
   },
   "file_extension": ".py",
   "mimetype": "text/x-python",
   "name": "python",
   "nbconvert_exporter": "python",
   "pygments_lexer": "ipython3",
   "version": "3.7.4"
  }
 },
 "nbformat": 4,
 "nbformat_minor": 2
}
